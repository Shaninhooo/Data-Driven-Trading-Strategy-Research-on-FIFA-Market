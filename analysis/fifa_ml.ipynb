{
 "cells": [
  {
   "cell_type": "code",
   "execution_count": 89,
   "id": "c238c192",
   "metadata": {},
   "outputs": [],
   "source": [
    "import xgboost as xgb\n",
    "from sklearn.metrics import accuracy_score, roc_auc_score\n",
    "from sklearn.model_selection import train_test_split\n",
    "import pandas as pd\n",
    "import numpy as np\n",
    "from data_scraping.db_utils import get_connection"
   ]
  },
  {
   "cell_type": "code",
   "execution_count": 109,
   "id": "bce07641",
   "metadata": {},
   "outputs": [
    {
     "name": "stderr",
     "output_type": "stream",
     "text": [
      "C:\\Users\\shane\\AppData\\Local\\Temp\\ipykernel_21648\\2461998958.py:4: UserWarning: pandas only supports SQLAlchemy connectable (engine/connection) or database string URI or sqlite3 DBAPI2 connection. Other DBAPI2 objects are not tested. Please consider using SQLAlchemy.\n",
      "  market_df = pd.read_sql(\"SELECT * FROM price_history\", conn)\n",
      "C:\\Users\\shane\\AppData\\Local\\Temp\\ipykernel_21648\\2461998958.py:5: UserWarning: pandas only supports SQLAlchemy connectable (engine/connection) or database string URI or sqlite3 DBAPI2 connection. Other DBAPI2 objects are not tested. Please consider using SQLAlchemy.\n",
      "  cards_df = pd.read_sql(\"SELECT * FROM cards\", conn)\n"
     ]
    },
    {
     "name": "stdout",
     "output_type": "stream",
     "text": [
      "        card_id  pc_value  console_value           date_time\n",
      "189032       37       0.0            NaN 2024-09-20 09:30:00\n",
      "189392       37       NaN            0.0 2024-09-20 09:30:00\n",
      "189033       37       0.0            NaN 2024-09-21 09:30:00\n",
      "189393       37       NaN            0.0 2024-09-21 09:30:00\n",
      "189034       37       0.0            NaN 2024-09-22 09:30:00\n",
      "...         ...       ...            ...                 ...\n",
      "596979    59957       NaN            0.0 2025-09-14 09:30:00\n",
      "596849    59957       0.0            NaN 2025-09-15 09:30:00\n",
      "596980    59957       NaN            0.0 2025-09-15 09:30:00\n",
      "596850    59957       0.0            NaN 2025-09-16 09:30:00\n",
      "596981    59957       NaN            0.0 2025-09-16 09:30:00\n",
      "\n",
      "[643062 rows x 4 columns]\n"
     ]
    }
   ],
   "source": [
    "conn = get_connection()\n",
    "\n",
    "# 1. Load data\n",
    "market_df = pd.read_sql(\"SELECT * FROM price_history\", conn)\n",
    "cards_df = pd.read_sql(\"SELECT * FROM cards\", conn)\n",
    "# Merge price history with player metadata\n",
    "full_df = market_df.merge(cards_df, on='card_id', how='left')\n",
    "\n",
    "\n",
    "# Sort by player and time\n",
    "full_df = market_df.sort_values(['card_id', 'date_time'])\n",
    "# full_df = full_df[(full_df['league'] == 'Premier League') & (full_df['rating'] >= 84)]\n",
    "\n",
    "print(full_df)\n",
    "\n",
    "# Rolling averages for momentum\n",
    "full_df['ma_short'] = full_df.groupby('card_id')['pc_value'].transform(lambda x: x.rolling(3).mean())\n",
    "full_df['ma_long'] = full_df.groupby('card_id')['pc_value'].transform(lambda x: x.rolling(10).mean())\n",
    "full_df['momentum'] = full_df['ma_short'] - full_df['ma_long']\n",
    "\n",
    "# Rolling std for volatility\n",
    "full_df['volatility'] = full_df.groupby('card_id')['pc_value'].transform(lambda x: x.rolling(10).std())\n"
   ]
  },
  {
   "cell_type": "code",
   "execution_count": 91,
   "id": "1c4c8d55",
   "metadata": {},
   "outputs": [],
   "source": [
    "# Next-period price\n",
    "full_df['price_next'] = full_df.groupby('card_id')['pc_value'].shift(-1)\n",
    "\n",
    "# Target: price goes up\n",
    "full_df['target'] = (full_df['price_next'] > full_df['pc_value']).astype(int)\n",
    "\n",
    "# Drop NaNs caused by rolling/shift\n",
    "full_df = full_df.dropna(subset=['momentum', 'volatility', 'target'])"
   ]
  },
  {
   "cell_type": "code",
   "execution_count": 92,
   "id": "3ac446b4",
   "metadata": {},
   "outputs": [
    {
     "name": "stdout",
     "output_type": "stream",
     "text": [
      "Train: 2024-09-29 09:30:00 → 2024-10-19 10:30:00\n",
      "Test : 2024-10-20 10:30:00 → 2024-11-09 10:30:00\n"
     ]
    }
   ],
   "source": [
    "start_date = full_df['date_time'].min()\n",
    "train_cutoff = start_date + pd.Timedelta(weeks=3)\n",
    "test_cutoff  = train_cutoff + pd.Timedelta(weeks=3)\n",
    "\n",
    "# Train = first 4 weeks\n",
    "train_df = full_df[full_df['date_time'] <= train_cutoff]\n",
    "\n",
    "# Test = next 4 weeks only\n",
    "test_df = full_df[(full_df['date_time'] > train_cutoff) & (full_df['date_time'] <= test_cutoff)]\n",
    "\n",
    "print(\"Train:\", train_df['date_time'].min(), \"→\", train_df['date_time'].max())\n",
    "print(\"Test :\", test_df['date_time'].min(), \"→\", test_df['date_time'].max())"
   ]
  },
  {
   "cell_type": "code",
   "execution_count": 93,
   "id": "9ed4761b",
   "metadata": {},
   "outputs": [],
   "source": [
    "feature_cols = ['momentum', 'volatility']\n",
    "\n",
    "X_train, y_train = train_df[feature_cols], train_df['target']\n",
    "X_test, y_test   = test_df[feature_cols], test_df['target']"
   ]
  },
  {
   "cell_type": "code",
   "execution_count": 94,
   "id": "7cb67aaa",
   "metadata": {},
   "outputs": [
    {
     "name": "stdout",
     "output_type": "stream",
     "text": [
      "Accuracy: 0.42857142857142855\n",
      "ROC-AUC: 0.5913461538461539\n"
     ]
    }
   ],
   "source": [
    "model = xgb.XGBClassifier(n_estimators=100, max_depth=5, learning_rate=0.1)\n",
    "model.fit(X_train, y_train)\n",
    "\n",
    "# Predict\n",
    "y_pred = model.predict(X_test)\n",
    "y_prob = model.predict_proba(X_test)[:,1]\n",
    "\n",
    "# Evaluation\n",
    "print(\"Accuracy:\", accuracy_score(y_test, y_pred))\n",
    "print(\"ROC-AUC:\", roc_auc_score(y_test, y_prob))"
   ]
  },
  {
   "cell_type": "code",
   "execution_count": 95,
   "id": "52c8a0f2",
   "metadata": {},
   "outputs": [
    {
     "name": "stdout",
     "output_type": "stream",
     "text": [
      "        pred_prob signal\n",
      "192662   0.197422   SELL\n",
      "192663   0.197422   SELL\n",
      "192664   0.197422   SELL\n",
      "192665   0.197422   SELL\n",
      "192666   0.197422   SELL\n",
      "192667   0.197422   SELL\n",
      "192668   0.197422   SELL\n",
      "192669   0.762669    BUY\n",
      "192670   0.131207   SELL\n",
      "192671   0.259011   SELL\n",
      "192672   0.259011   SELL\n",
      "192673   0.259011   SELL\n",
      "192674   0.259011   SELL\n",
      "192675   0.259011   SELL\n",
      "192676   0.259011   SELL\n",
      "192677   0.259011   SELL\n",
      "192678   0.108060   SELL\n",
      "192679   0.517849   HOLD\n",
      "192680   0.517849   HOLD\n",
      "192681   0.197422   SELL\n"
     ]
    }
   ],
   "source": [
    "# Add predictions back to the test dataframe\n",
    "test_results = test_df.copy()\n",
    "test_results['pred_prob'] = y_prob\n",
    "test_results['signal'] = 'HOLD'\n",
    "test_results.loc[test_results['pred_prob'] > 0.6, 'signal'] = 'BUY'\n",
    "test_results.loc[test_results['pred_prob'] < 0.4, 'signal'] = 'SELL'\n",
    "\n",
    "# Now you can print name + predictions\n",
    "print(test_results[['pred_prob', 'signal']].head(20))"
   ]
  }
 ],
 "metadata": {
  "kernelspec": {
   "display_name": "Python 3",
   "language": "python",
   "name": "python3"
  },
  "language_info": {
   "codemirror_mode": {
    "name": "ipython",
    "version": 3
   },
   "file_extension": ".py",
   "mimetype": "text/x-python",
   "name": "python",
   "nbconvert_exporter": "python",
   "pygments_lexer": "ipython3",
   "version": "3.12.2"
  }
 },
 "nbformat": 4,
 "nbformat_minor": 5
}
